{
 "cells": [
  {
   "cell_type": "code",
   "execution_count": 1,
   "metadata": {},
   "outputs": [],
   "source": [
    "import numpy as np"
   ]
  },
  {
   "cell_type": "code",
   "execution_count": 12,
   "metadata": {},
   "outputs": [],
   "source": [
    "transition_function = {\n",
    "    \n",
    "    (0, '0'): (0, '0', 'R'),\n",
    "    (0, '1'): (0, '1', 'R'),\n",
    "    (0, '_'): (1, '_', 'R'),\n",
    "\n",
    "    (1, '0'): (1, '0', 'R'),\n",
    "    (1, '1'): (1, '1', 'R'),\n",
    "    (1, '_'): (2, '_', 'L'),\n",
    "\n",
    "   \n",
    "    (2, '0'): (2, '1', 'L'), \n",
    "    (2, '1'): (3, '0', 'L'),  \n",
    "    (2, '_'): (5, '_', 'R'),  \n",
    "\n",
    "    \n",
    "    (3, '0'): (3, '0', 'L'),  \n",
    "    (3, '1'): (3, '1', 'L'),  \n",
    "    (3, '_'): (4, '_', 'L'),  \n",
    "\n",
    "    (4, '0'): (0, '1', 'R'),  \n",
    "    (4, '1'): (4, '0', 'L'),  \n",
    "    (4, '_'): (0, '1', 'R'),  \n",
    "\n",
    "   \n",
    "    (5, '1'): (5, '_', 'R'), \n",
    "    (5, '_'): ('halt', '_', '*'),  \n",
    "}\n"
   ]
  },
  {
   "cell_type": "code",
   "execution_count": 20,
   "metadata": {},
   "outputs": [],
   "source": [
    "tape = list(\"10100_101\")  \n",
    "states = {0, 1, 2, 3, 4, 5, 'halt'} \n",
    "initial_state = 0\n",
    "halt_state = 'halt'\n",
    "\n",
    "class TuringMachine:\n",
    "    def __init__(self, tape, states, transition_function, initial_state, halt_state):\n",
    "        self.tape = list(tape)\n",
    "        self.head = 0\n",
    "        self.states = states\n",
    "        self.transition_function = transition_function\n",
    "        self.state = initial_state\n",
    "        self.halt_state = halt_state\n",
    "        self.steps = []\n",
    "\n",
    "    def step(self):\n",
    "        \"\"\"Perform a single Turing Machine step.\"\"\"\n",
    "        if self.head < 0:\n",
    "            self.tape.insert(0, '_')  \n",
    "            self.head = 0\n",
    "        elif self.head >= len(self.tape):\n",
    "            self.tape.append('_')  \n",
    "\n",
    "        current_symbol = self.tape[self.head]\n",
    "        if (self.state, current_symbol) in self.transition_function:\n",
    "            new_state, new_symbol, direction = self.transition_function[(self.state, current_symbol)]\n",
    "            self.tape[self.head] = new_symbol\n",
    "            self.state = new_state\n",
    "            self.head += 1 if direction == 'R' else -1\n",
    "            self.steps.append((''.join(self.tape), self.state, self.head)) \n",
    "        else:\n",
    "            self.state = self.halt_state\n",
    "\n",
    "    def run(self):\n",
    "        \"\"\"Run the Turing Machine until it halts.\"\"\"\n",
    "        while self.state != self.halt_state:\n",
    "            self.step()\n",
    "\n",
    "    def write_to_file(self, filename):\n",
    "        \"\"\"Save the tape states to a .dat file.\"\"\"\n",
    "        with open(filename, 'w') as f:\n",
    "            for step in self.steps:\n",
    "                f.write(f\"{step[0]} \\n\")\n",
    "\n",
    "\n",
    "tm = TuringMachine(tape, states, transition_function, initial_state, halt_state)\n",
    "tm.run()\n",
    "tm.write_to_file(\"binary_addition.dat\")"
   ]
  }
 ],
 "metadata": {
  "kernelspec": {
   "display_name": "base",
   "language": "python",
   "name": "python3"
  },
  "language_info": {
   "codemirror_mode": {
    "name": "ipython",
    "version": 3
   },
   "file_extension": ".py",
   "mimetype": "text/x-python",
   "name": "python",
   "nbconvert_exporter": "python",
   "pygments_lexer": "ipython3",
   "version": "3.9.21"
  }
 },
 "nbformat": 4,
 "nbformat_minor": 2
}
